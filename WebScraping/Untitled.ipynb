{
 "cells": [
  {
   "cell_type": "markdown",
   "id": "5c09abaf-d7fe-486a-8b81-532dd1c06d95",
   "metadata": {},
   "source": [
    "## Web Scraping"
   ]
  },
  {
   "cell_type": "code",
   "execution_count": 15,
   "id": "ebee0831-3017-477a-8a03-c4f917f35ab5",
   "metadata": {},
   "outputs": [],
   "source": [
    "import pandas as pd\n",
    "import requests\n",
    "from bs4 import BeautifulSoup\n",
    "import re\n"
   ]
  },
  {
   "cell_type": "code",
   "execution_count": 16,
   "id": "d7855504-de39-40d8-aa36-df80d1c92dbb",
   "metadata": {},
   "outputs": [],
   "source": [
    "\n",
    "headers = {\"User-Agent\": 'Mozilla/5.0 (Windows NT 10.0; Win64; x64) AppleWebKit/537.36 (KHTML, like Gecko) Chrome/94.0.4606.81 Safari/537.36'}\n",
    "dataset = []\n",
    "for i in range(1,2):\n",
    "    response = requests.get(f'https://codeforces.com/problemset/page/{i}?order=BY_RATING_ASC' ,headers=headers).text\n",
    "    soup = BeautifulSoup(response,'lxml')\n",
    "    # print(soup)\n",
    "    problems = soup.find_all('tbody',{})\n",
    "    problems\n",
    "    \n",
    "\n"
   ]
  },
  {
   "cell_type": "code",
   "execution_count": null,
   "id": "b402e144-eb4b-4f1f-86e7-26135ec20fa2",
   "metadata": {},
   "outputs": [],
   "source": []
  }
 ],
 "metadata": {
  "kernelspec": {
   "display_name": "Python 3 (ipykernel)",
   "language": "python",
   "name": "python3"
  },
  "language_info": {
   "codemirror_mode": {
    "name": "ipython",
    "version": 3
   },
   "file_extension": ".py",
   "mimetype": "text/x-python",
   "name": "python",
   "nbconvert_exporter": "python",
   "pygments_lexer": "ipython3",
   "version": "3.12.0"
  }
 },
 "nbformat": 4,
 "nbformat_minor": 5
}
