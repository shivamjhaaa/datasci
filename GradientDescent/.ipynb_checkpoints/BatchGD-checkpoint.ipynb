{
 "cells": [
  {
   "cell_type": "code",
   "execution_count": 5,
   "id": "af85943d-3b67-4156-9dab-f49679257a24",
   "metadata": {},
   "outputs": [],
   "source": [
    "from sklearn.datasets import load_diabetes\n",
    "\n",
    "import numpy as np\n",
    "from sklearn.linear_model import LinearRegression\n",
    "from sklearn.metrics import r2_score\n",
    "from sklearn.model_selection import train_test_split"
   ]
  },
  {
   "cell_type": "code",
   "execution_count": 34,
   "id": "112e8e6f-9eee-4d8f-9e88-0abc1bd9fbe6",
   "metadata": {},
   "outputs": [],
   "source": [
    "class BatchGD:\n",
    "\n",
    "    def __init__(self , learningRate = 0.01 , epochs = 1000):\n",
    "        self.coefficient = None\n",
    "        self.intercept = None\n",
    "        self.lr = learningRate\n",
    "        self.epochs = epochs\n",
    "\n",
    "    def fit(self , X , Y):\n",
    "        #init your coefficients\n",
    "        self.intercept = 0\n",
    "        self.coefficient = np.ones(X.shape[1])\n",
    "\n",
    "        for i in range(self.epochs):\n",
    "            #update all the coef and intercept\n",
    "            Y_pred = np.dot(X , self.coefficient) + self.intercept\n",
    "            intercept_derivative = -2 * np.mean(Y - Y_pred)\n",
    "            self.intercept = self.intercept - (self.lr * intercept_derivative)\n",
    "\n",
    "            coefficient_derivative = -2 * np.dot((Y - Y_pred) , X) / X.shape[0]\n",
    "            self.coefficient  = self.coefficient - (self.lr * coefficient_derivative)\n",
    "            \n",
    "        print(\"\\nIntercept: \",self.intercept)\n",
    "        print(\"\\nCoefficient: \",self.coefficient)\n",
    "\n",
    "    def predict(self , X):\n",
    "        return np.dot(X,self.coefficient) + self.intercept\n",
    "        "
   ]
  },
  {
   "cell_type": "markdown",
   "id": "853efc74-e8d4-4662-bcfe-77aa0522f10b",
   "metadata": {},
   "source": [
    "# Example"
   ]
  },
  {
   "cell_type": "code",
   "execution_count": 35,
   "id": "39557f91-04c8-499a-943f-98e0e31ed7fc",
   "metadata": {},
   "outputs": [
    {
     "name": "stdout",
     "output_type": "stream",
     "text": [
      "(442, 10)\n",
      "(442,)\n"
     ]
    }
   ],
   "source": [
    "X,y = load_diabetes(return_X_y=True)\n",
    "print(X.shape)\n",
    "print(y.shape)"
   ]
  },
  {
   "cell_type": "code",
   "execution_count": 36,
   "id": "049f44c8-5ae0-4d8c-bb55-f21be64bc0ef",
   "metadata": {},
   "outputs": [],
   "source": [
    "X_train,X_test,y_train,y_test = train_test_split(X,y,test_size=0.2,random_state=2)"
   ]
  },
  {
   "cell_type": "markdown",
   "id": "2a956261-ab6f-42a2-ab7c-c008caa4fffd",
   "metadata": {},
   "source": [
    "# With Linear Regression Class"
   ]
  },
  {
   "cell_type": "code",
   "execution_count": 37,
   "id": "36f75352-d240-4e9e-9d69-120b86c527cd",
   "metadata": {},
   "outputs": [
    {
     "name": "stdout",
     "output_type": "stream",
     "text": [
      "Coefficient:  [  -9.15865318 -205.45432163  516.69374454  340.61999905 -895.5520019\n",
      "  561.22067904  153.89310954  126.73139688  861.12700152   52.42112238] \n",
      "\n",
      "Intercept:  151.88331005254167 \n",
      "\n",
      "R2 Score:  0.4399338661568968\n"
     ]
    }
   ],
   "source": [
    "reg = LinearRegression()\n",
    "reg.fit(X_train,y_train)\n",
    "\n",
    "print(\"Coefficient: \",reg.coef_,'\\n')\n",
    "print(\"Intercept: \",reg.intercept_,'\\n')\n",
    "\n",
    "y_pred = reg.predict(X_test)\n",
    "print(\"R2 Score: \" , r2_score(y_test,y_pred))"
   ]
  },
  {
   "cell_type": "markdown",
   "id": "396699ce-67ac-4eaa-a97c-6bc02804459d",
   "metadata": {},
   "source": [
    "# With Our Own Class (BatchGD)"
   ]
  },
  {
   "cell_type": "code",
   "execution_count": 38,
   "id": "ad828ae6-3a01-4e7a-beef-575f56ceccec",
   "metadata": {},
   "outputs": [
    {
     "name": "stdout",
     "output_type": "stream",
     "text": [
      "\n",
      "Intercept:  152.01351687661833\n",
      "\n",
      "Coefficient:  [  14.38990585 -173.7235727   491.54898524  323.91524824  -39.32648042\n",
      " -116.01061213 -194.04077415  103.38135565  451.63448787   97.57218278]\n",
      "\n",
      "R2 Score:  0.4534503034722803\n"
     ]
    }
   ],
   "source": [
    "gdr = BatchGD(epochs=1000,learningRate=0.5)\n",
    "gdr.fit(X_train,y_train)\n",
    "y_pred = gdr.predict(X_test)\n",
    "print(\"\\nR2 Score: \" , r2_score(y_test,y_pred))"
   ]
  }
 ],
 "metadata": {
  "kernelspec": {
   "display_name": "Python 3 (ipykernel)",
   "language": "python",
   "name": "python3"
  },
  "language_info": {
   "codemirror_mode": {
    "name": "ipython",
    "version": 3
   },
   "file_extension": ".py",
   "mimetype": "text/x-python",
   "name": "python",
   "nbconvert_exporter": "python",
   "pygments_lexer": "ipython3",
   "version": "3.12.1"
  }
 },
 "nbformat": 4,
 "nbformat_minor": 5
}
